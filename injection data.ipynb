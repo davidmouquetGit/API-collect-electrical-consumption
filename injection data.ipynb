{
 "cells": [
  {
   "cell_type": "code",
   "execution_count": 7,
   "id": "362499ed",
   "metadata": {},
   "outputs": [
    {
     "name": "stdout",
     "output_type": "stream",
     "text": [
      "Connexion à la base de données réussie.\n",
      "Données importées avec succès !\n",
      "Connexion fermée.\n"
     ]
    }
   ],
   "source": [
    "import psycopg2\n",
    "from psycopg2 import sql\n",
    "\n",
    "# Chemin vers ton fichier CSV sur EC2\n",
    "csv_file_path = \"data/conso_jour_gaz.csv\"\n",
    "\n",
    "# Nom de la table dans PostgreSQL\n",
    "table_name = \"conso_jour_gaz\"\n",
    "\n",
    "\n",
    "# Configuration de la connexion à la base de données RDS\n",
    "db_config = {\n",
    "    \"host\": \"localhost\",\n",
    "    \"database\": \"conso\",\n",
    "    \"user\": \"postgres\",\n",
    "    \"password\": \"Labrax_007\",\n",
    "}\n",
    "\n",
    "\n",
    "\n",
    "def import_csv_to_postgresql(conn, csv_file_path):\n",
    "    with conn.cursor() as cursor:\n",
    "        with open(csv_file_path, \"r\") as f:\n",
    "            # Ignore la première ligne (en-tête)\n",
    "            next(f)\n",
    "            # Utilise une table temporaire pour éviter les conflits\n",
    "            cursor.execute(\n",
    "                sql.SQL(\"\"\"\n",
    "                    CREATE TEMP TABLE temp_import AS\n",
    "                    SELECT * FROM {} LIMIT 0\n",
    "                \"\"\").format(sql.Identifier(table_name))\n",
    "            )\n",
    "            # Import dans la table temporaire\n",
    "            cursor.copy_expert(\n",
    "                sql.SQL(\"\"\"\n",
    "                    COPY temp_import (horodatage,volume,energie,pci,text)\n",
    "                    FROM STDIN\n",
    "                    WITH (FORMAT csv, DELIMITER ',')\n",
    "                \"\"\"),\n",
    "                f,\n",
    "            )\n",
    "            # Insère les données en ignorant les doublons\n",
    "            cursor.execute(\n",
    "                sql.SQL(\"\"\"\n",
    "                    INSERT INTO {}\n",
    "                    (horodatage,volume,energie,pci,text)\n",
    "                    SELECT horodatage,volume,energie,pci,text FROM temp_import\n",
    "                    ON CONFLICT (horodatage) DO NOTHING\n",
    "                \"\"\").format(sql.Identifier(table_name))\n",
    "            )\n",
    "        conn.commit()\n",
    "\n",
    "# Connexion à la base de données et exécution\n",
    "try:\n",
    "    conn = psycopg2.connect(**db_config)\n",
    "    print(\"Connexion à la base de données réussie.\")\n",
    "    import_csv_to_postgresql(conn, csv_file_path)\n",
    "    print(\"Données importées avec succès !\")\n",
    "except Exception as e:\n",
    "    print(f\"Erreur : {e}\")\n",
    "finally:\n",
    "    if conn is not None:\n",
    "        conn.close()\n",
    "        print(\"Connexion fermée.\")\n"
   ]
  }
 ],
 "metadata": {
  "kernelspec": {
   "display_name": "env",
   "language": "python",
   "name": "python3"
  },
  "language_info": {
   "codemirror_mode": {
    "name": "ipython",
    "version": 3
   },
   "file_extension": ".py",
   "mimetype": "text/x-python",
   "name": "python",
   "nbconvert_exporter": "python",
   "pygments_lexer": "ipython3",
   "version": "3.11.7"
  }
 },
 "nbformat": 4,
 "nbformat_minor": 5
}
