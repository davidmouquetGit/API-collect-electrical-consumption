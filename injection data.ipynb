{
 "cells": [
  {
   "cell_type": "markdown",
   "id": "c8ab3e59",
   "metadata": {},
   "source": [
    "## Test lecture data sur S3"
   ]
  },
  {
   "cell_type": "code",
   "execution_count": 21,
   "id": "4db6fe47",
   "metadata": {},
   "outputs": [],
   "source": [
    "import boto3\n",
    "import pandas as pd\n",
    "from io import BytesIO"
   ]
  },
  {
   "cell_type": "code",
   "execution_count": 22,
   "id": "be75ae26",
   "metadata": {},
   "outputs": [],
   "source": [
    "# Nom du bucket et chemin du fichier\n",
    "bucket_name = \"david-mlops-bucket\"\n",
    "fichier_s3  = \"s3://david-mlops-bucket/conso grdf/Donnees_informatives_02269609199626_2025-10-13_2025-10-20_68f65c45bfe56.xlsx\"\n",
    "\n",
    "import awswrangler as wr\n",
    "\n",
    "#s3_path = 's3://votre-bucket/chemin/vers/votre/fichier.xlsx'\n",
    "#df = wr.s3.read_excel(path=fichier_s3 , sheet_name=0, skiprows=8,usecols=\"B:H\") # sheet_name=0 pour la première feuille"
   ]
  },
  {
   "cell_type": "code",
   "execution_count": 23,
   "id": "0d8acc18",
   "metadata": {},
   "outputs": [],
   "source": [
    "import boto3\n",
    "\n",
    "def lister_fichiers_excel_s3():\n",
    "    \"\"\"\n",
    "    Récupère la liste des fichiers Excel (.xlsx, .xls) dans un bucket S3.\n",
    "\n",
    "    :return: Une liste des clés (noms de chemins) des fichiers Excel.\n",
    "    \"\"\"\n",
    "    import os\n",
    "\n",
    "    bucket_name   = os.environ.get(\"NOM_DU_BUCKET\")\n",
    "    prefix        = os.environ.get(\"PREFIXE_DOSSIER\")  \n",
    "\n",
    "    s3 = boto3.client(\n",
    "        's3',\n",
    "        aws_access_key_id     = os.environ.get(\"aws_access_key_id\"),\n",
    "        aws_secret_access_key = os.environ.get(\"aws_secret_access_key\")\n",
    "    )\n",
    "\n",
    "    \n",
    "    excel_files = []\n",
    "    \n",
    "    # Pour gérer un grand nombre de fichiers (pagination)\n",
    "    paginator = s3.get_paginator('list_objects_v2')\n",
    "    pages = paginator.paginate(Bucket=bucket_name, Prefix=prefix)\n",
    "\n",
    "    for page in pages:\n",
    "        if 'Contents' in page:\n",
    "            for obj in page['Contents']:\n",
    "                key = obj['Key']\n",
    "                # Filtrer par extension\n",
    "                if key.lower().endswith('.xlsx') or key.lower().endswith('.xls'):                    \n",
    "                    excel_files.append(f\"s3://{bucket_name}/{key}\")\n",
    "                    \n",
    "    return excel_files\n"
   ]
  },
  {
   "cell_type": "markdown",
   "id": "61fe87e8",
   "metadata": {},
   "source": [
    "## Injection données météo"
   ]
  }
 ],
 "metadata": {
  "kernelspec": {
   "display_name": "env",
   "language": "python",
   "name": "python3"
  },
  "language_info": {
   "codemirror_mode": {
    "name": "ipython",
    "version": 3
   },
   "file_extension": ".py",
   "mimetype": "text/x-python",
   "name": "python",
   "nbconvert_exporter": "python",
   "pygments_lexer": "ipython3",
   "version": "3.10.11"
  }
 },
 "nbformat": 4,
 "nbformat_minor": 5
}
